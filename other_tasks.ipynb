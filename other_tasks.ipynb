{
 "cells": [
  {
   "attachments": {},
   "cell_type": "markdown",
   "id": "17b5aad9",
   "metadata": {},
   "source": [
    "## Основы BigData\n",
    "**Задание:**\n",
    "Напиши псевдокодом последовательность расчета word count в парадигме map-reduce."
   ]
  },
  {
   "cell_type": "markdown",
   "id": "b87d06f9",
   "metadata": {},
   "source": [
    "Python-like псевдокод:"
   ]
  },
  {
   "cell_type": "code",
   "execution_count": 1,
   "id": "4653c375",
   "metadata": {},
   "outputs": [],
   "source": [
    "def map(words):\n",
    "    for word in words:\n",
    "        yield word, 1\n",
    "\n",
    "        \n",
    "def reduce(word, values):\n",
    "    yield word, sum(values)"
   ]
  },
  {
   "cell_type": "markdown",
   "id": "b3817b8a",
   "metadata": {},
   "source": [
    "На этапе **Map** функция превращает входной текст в набо пар (слово, 1). Затем на этапе **Shuffle** эти пары без участия пользователя превращаются в пары вида (слово, \\[1, 1, 1, ..., 1\\]). На этапе **Reduce** эти единицы суммируются, и мы получаем ответ."
   ]
  },
  {
   "cell_type": "code",
   "execution_count": null,
   "id": "8de28ea3",
   "metadata": {},
   "outputs": [],
   "source": []
  },
  {
   "attachments": {},
   "cell_type": "markdown",
   "id": "e5fce4e1",
   "metadata": {},
   "source": [
    "## Основы баз данных\n",
    "**Задание 1.** \n",
    "Перечисли способы получить количество записей в таблице"
   ]
  },
  {
   "cell_type": "markdown",
   "id": "c26df030",
   "metadata": {},
   "source": [
    "1. SELECT COUNT(*) FROM TABLE\n",
    "2. SELECT SUM(1) FROM TABLE"
   ]
  },
  {
   "cell_type": "markdown",
   "id": "456f8b9a",
   "metadata": {},
   "source": [
    "**Задание 2.**\n",
    "Выполнится ли этот запрос?\n",
    "SELECT \n",
    "     order_id,\n",
    "     order_code,\n",
    "     SUM(order_value)\n",
    "FROM \n",
    "     orders\n",
    "GROUP BY\n",
    "     order_id\n"
   ]
  },
  {
   "cell_type": "markdown",
   "id": "4b66a178",
   "metadata": {},
   "source": [
    "Данный запрос не выполнится и выдаст ошибку, поскольку 'order_code' не содержится ни в самой агрегирующей функции, ни в выражении GROUP BY."
   ]
  },
  {
   "cell_type": "code",
   "execution_count": null,
   "id": "200b850c",
   "metadata": {},
   "outputs": [],
   "source": []
  },
  {
   "attachments": {},
   "cell_type": "markdown",
   "id": "4d3130f5",
   "metadata": {},
   "source": [
    "## Основы программирования\n",
    "**Задание 1.**\n",
    "Дан массив целых чисел nums и целое число target. Написать функцию, возвращающую индексы элементов, дающих в сумме число target."
   ]
  },
  {
   "cell_type": "markdown",
   "id": "2168297c",
   "metadata": {},
   "source": [
    "Формулировка задания не до конца ясна сходу, я понимаю его примерно так: \n",
    "\"Дан массив целых чисел nums и число target. Необходимо найти все пары чисел (n1, n2) из данного массива, сумма которых равна target.\""
   ]
  },
  {
   "cell_type": "markdown",
   "id": "ade3c4fe",
   "metadata": {},
   "source": [
    "Пусть n - размер исходного массива, target - число, которое необходимо получить.\n",
    "\n",
    "Можно использовать 3 подхода к решению данной задачи:\n",
    "1. Bruteforce алгоритм (временная сложность - О(n^2))\n",
    "Перебор всех возможных комбинаций во вложенных циклах. Самый простой подход, который, однако, будет работать очень медленно при больших размерах массива.\n",
    "2. Сортировка и бинарный поиск (временная сложность - О(n log n))\n",
    "Сначала исходный массив сортируется - О(n log n). \n",
    "Затем для каждого x бинарным поиском ищется (target - x) - O(log n) для каждого x. Cуммарно - O(n log n)\n",
    "3. Использование хэш-таблицы. (временная сложность - О(n))\n",
    "В таком случае при достаточно хорошей хэш-функции поиск значения в таблице занимает O(1). Таким образом, так же, как и в прошлом варианте, для каждого x производится поиск (target - x), но уже за константное время. Суммарно - O(n)\n",
    "\n",
    "Реализуем самый лучший вариант алгоритма:"
   ]
  },
  {
   "cell_type": "code",
   "execution_count": 2,
   "id": "6111e9f7",
   "metadata": {},
   "outputs": [],
   "source": [
    "def find_two(nums, target):\n",
    "    # будем хранить в словаре пары вида (значение, список индексов), \n",
    "    # поскольку одинаковые значения могут повтряться в массиве несколько раз, а нам нужны все кобинации\n",
    "    d = {}\n",
    "    ans = []\n",
    "    for i, n in enumerate(nums):\n",
    "        m = target - n\n",
    "        \n",
    "        if m in d:\n",
    "            for num in d[m]:\n",
    "                ans.append((num, i))\n",
    "        if n not in d:\n",
    "            d[n] = []\n",
    "        d[n].append(i)  \n",
    "    \n",
    "    return ans"
   ]
  },
  {
   "attachments": {},
   "cell_type": "markdown",
   "id": "92d08df7",
   "metadata": {},
   "source": [
    "**Задание 2.** \n",
    "Предполагается, что в каждом массиве имеется не больше одной пары дающих в сумме заданное число target. Нельзя использовать один и тот же элемент дважды."
   ]
  },
  {
   "cell_type": "markdown",
   "id": "9771ec3e",
   "metadata": {},
   "source": [
    "Данное задание практически полностью повторяет предыдущее, за исключением того, что в массиве не больше одного решения задачи. В этом случае подходы к решению не меняются, за исключением того, что сразу после нахождения нужной комбинации функция прекращает свою работу и возвращает ответ.\n",
    "\n",
    "Будем так же, как и в прошлой задаче, выводить индексы элементов, которые в сумме дают target."
   ]
  },
  {
   "cell_type": "code",
   "execution_count": 3,
   "id": "525fae5d",
   "metadata": {},
   "outputs": [],
   "source": [
    "def twoSum(nums, target):\n",
    "    # будем хранить в словаре пары вида (значение, индекс в массиве)\n",
    "    d = {}\n",
    "    for i, n in enumerate(nums):\n",
    "        m = target - n\n",
    "        # если искомое значение уже есть в хэш-таблице, возвращаем пару индексов, если нет - добавляем значение в таблицу\n",
    "        if m in d:\n",
    "            return [d[m], i]\n",
    "        else:\n",
    "            d[n] = i"
   ]
  },
  {
   "cell_type": "code",
   "execution_count": null,
   "id": "4f95890a",
   "metadata": {},
   "outputs": [],
   "source": []
  }
 ],
 "metadata": {
  "kernelspec": {
   "display_name": "Python 3",
   "language": "python",
   "name": "python3"
  },
  "language_info": {
   "codemirror_mode": {
    "name": "ipython",
    "version": 3
   },
   "file_extension": ".py",
   "mimetype": "text/x-python",
   "name": "python",
   "nbconvert_exporter": "python",
   "pygments_lexer": "ipython3",
   "version": "3.8.8"
  }
 },
 "nbformat": 4,
 "nbformat_minor": 5
}
